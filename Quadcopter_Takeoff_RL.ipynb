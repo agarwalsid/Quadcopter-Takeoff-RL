{
 "cells": [
  {
   "cell_type": "markdown",
   "metadata": {},
   "source": [
    "# Training a Quadcopter to Takeoff using Reinforcement Learning"
   ]
  },
  {
   "cell_type": "markdown",
   "metadata": {},
   "source": [
    "## The Task\n",
    "\n",
    "The task specified is Takeoff i.e. the quadcopter has to liftoff the ground and reach a certain height. "
   ]
  },
  {
   "cell_type": "markdown",
   "metadata": {},
   "source": [
    "## Reinforcement Learning\n",
    "\n",
    "I have used the same DDPG Process that has been explained here. After a number of trial I have picked $\\gamma$ as 0.9\n",
    "I have a standard NN architecture with 3 hidden layers and relu and tanh activations\n",
    "\n",
    "The advantage of DDPG is that it is off-policy and model-free. It optimize a policy end-to-end by computing noisy estimates of the gradient of the expected reward and then updating the policy in the gradient direction. The Actor-Critic learning algorithm is used to represent the policy function. The policy function structure is known as the actor, and the value function structure is the critic. The actor produces an action given the current state and the critic produces a error given the state and reward.\n",
    "\n",
    "In general, training and evaluating policy with a number of simulated trajectories leads to high variance in the approximation of the Q-function. A experience replay is useful to store the experiences of the agent during training, and then randomly sample experiences for learning and break up the temporal correlations within different training episodes. \n",
    "\n",
    "Q targets are used to decouple the targets from the parameters thus making oscillations less likely. The OU Noise is added to the actions to encourage exploratory behavior and prevent actions from varying wildly. Also the OU process tends to settle down close to the specified mean over time\n",
    "\n",
    "The reward function is based on the z_velocity and the motion in z from initial position. The reward was clipped between -1 and and 1. The negative reward was given for crashing and a positive for reaching the desired height\n",
    "\n",
    "## Training"
   ]
  },
  {
   "cell_type": "code",
   "execution_count": 15,
   "metadata": {},
   "outputs": [
    {
     "name": "stdout",
     "output_type": "stream",
     "text": [
      "Episode = 300, score =103.824 (best =104.199) (Pose =  0.000,  0.000, 15.345  0.000,  0.000,  0.000)"
     ]
    }
   ],
   "source": [
    "%reload_ext autoreload\n",
    "%autoreload 2\n",
    "\n",
    "import sys\n",
    "import numpy as np\n",
    "import pandas as pd\n",
    "from agents.agent import DDPGProcess\n",
    "from TakeoffTask import Takeoff\n",
    "\n",
    "num_episodes = 300\n",
    "init_pose = np.array([0., 0., 1., 0., 0., 0.])\n",
    "target_pos = np.array([0., 0., 15.])\n",
    "task = Takeoff(init_pose=init_pose,target_pos=target_pos)\n",
    "agent = DDPGProcess(task) \n",
    "\n",
    "labels = ['time', 'x', 'y', 'z', 'phi', 'theta', 'psi', 'x_velocity',\n",
    "          'y_velocity', 'z_velocity', 'phi_velocity', 'theta_velocity',\n",
    "          'psi_velocity', 'rotor_speed1', 'rotor_speed2', 'rotor_speed3', 'rotor_speed4']\n",
    "results = {x : [] for x in labels}\n",
    "data = {x : [] for x in ['episode', 'total_reward', 'x', 'y', 'z']}\n",
    "\n",
    "for i_episode in range(1, num_episodes+1):\n",
    "    state = agent.reset_episode() # start a new episode\n",
    "    \n",
    "    while True:\n",
    "        action = agent.act(state) \n",
    "        next_state, reward, done = task.step(action)\n",
    "        agent.step(action=action, reward=reward, next_state=next_state, done=done)\n",
    "        state = next_state\n",
    "        \n",
    "        to_write = [task.sim.time] + list(task.sim.pose) + list(task.sim.v) + list(task.sim.angular_v) + list(rotor_speeds)\n",
    "        for ii in range(len(labels)):\n",
    "            results[labels[ii]].append(to_write[ii])\n",
    "\n",
    "        if done:\n",
    "            print(\"\\rEpisode ={:4d}, score ={:7.3f} (best ={:7.3f}) (Pose ={:7.3f},{:7.3f},{:7.3f}{:7.3f},{:7.3f},{:7.3f})\".format(\n",
    "                i_episode, agent.score, agent.best_score, task.sim.pose[0], task.sim.pose[1], task.sim.pose[2], task.sim.pose[3], task.sim.pose[4], task.sim.pose[5]), end=\"\")  # [debug]\n",
    "\n",
    "            data['episode'].append(i_episode)\n",
    "            data['total_reward'].append(agent.total_reward)\n",
    "            data['x'].append(task.sim.pose[0])\n",
    "            data['y'].append(task.sim.pose[1])\n",
    "            data['z'].append(task.sim.pose[2])\n",
    "\n",
    "            break\n",
    "    sys.stdout.flush()"
   ]
  },
  {
   "cell_type": "markdown",
   "metadata": {
    "collapsed": true
   },
   "source": [
    "## Plot the Rewards"
   ]
  },
  {
   "cell_type": "code",
   "execution_count": 20,
   "metadata": {
    "scrolled": true
   },
   "outputs": [
    {
     "data": {
      "image/png": "[encoded data removed]",
      "text/plain": [
       "<matplotlib.figure.Figure at 0x7f2c5167ef28>"
      ]
     },
     "metadata": {},
     "output_type": "display_data"
    }
   ],
   "source": [
    "import matplotlib.pyplot as plt\n",
    "%matplotlib inline\n",
    "\n",
    "plt.plot(data['episode'], data['x'], label='x')\n",
    "plt.plot(data['episode'], data['y'], label='y')\n",
    "plt.plot(data['episode'], data['z'], label='z')\n",
    "plt.legend()\n",
    "_ = plt.ylim()"
   ]
  },
  {
   "cell_type": "code",
   "execution_count": 21,
   "metadata": {},
   "outputs": [
    {
     "data": {
      "image/png": "[encoded data removed]",
      "text/plain": [
       "<matplotlib.figure.Figure at 0x7f2c5159ae48>"
      ]
     },
     "metadata": {},
     "output_type": "display_data"
    }
   ],
   "source": [
    "plt.plot(data['episode'], data['total_reward'])\n",
    "plt.legend()\n",
    "_ = plt.ylim()"
   ]
  }
 ],
 "metadata": {
  "anaconda-cloud": {},
  "kernelspec": {
   "display_name": "quadcop",
   "language": "python",
   "name": "quadcop"
  },
  "language_info": {
   "codemirror_mode": {
    "name": "ipython",
    "version": 2
   },
   "file_extension": ".py",
   "mimetype": "text/x-python",
   "name": "python",
   "nbconvert_exporter": "python",
   "pygments_lexer": "ipython2",
   "version": "2.7.14"
  }
 },
 "nbformat": 4,
 "nbformat_minor": 2
}
